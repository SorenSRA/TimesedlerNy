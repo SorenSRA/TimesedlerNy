{
 "cells": [
  {
   "cell_type": "code",
   "execution_count": 1,
   "metadata": {},
   "outputs": [],
   "source": [
    "import pandas as pd\n",
    "import numpy as np\n",
    "import re\n",
    "\n"
   ]
  },
  {
   "cell_type": "code",
   "execution_count": 2,
   "metadata": {},
   "outputs": [],
   "source": [
    "def ini(rk):\n",
    "    match = re.search(r'\\((.*?)\\)', rk['Navn'])\n",
    "\n",
    "    if match:\n",
    "        tekst_i_parentes = match.group(1)\n",
    "        return tekst_i_parentes.lower()\n",
    "    else:\n",
    "        return \"xxx\""
   ]
  },
  {
   "cell_type": "code",
   "execution_count": 3,
   "metadata": {},
   "outputs": [],
   "source": [
    "filnavn = r\"../data/maanedsStatistik.xlsx\"\n",
    "df = pd.read_excel(filnavn, sheet_name=\"MaanedsStatistik\")"
   ]
  },
  {
   "cell_type": "code",
   "execution_count": 4,
   "metadata": {},
   "outputs": [],
   "source": [
    "df.fillna(0, inplace=True)\n"
   ]
  },
  {
   "cell_type": "code",
   "execution_count": 5,
   "metadata": {},
   "outputs": [],
   "source": [
    "skalslettes = df.loc[df['Navn'] == 0]\n",
    "df.drop(skalslettes.index, inplace=True)\n",
    "df.drop('Opslag', axis=1, inplace=True)\n",
    "df['ini'] = df.apply(ini, axis=1)"
   ]
  },
  {
   "cell_type": "code",
   "execution_count": 6,
   "metadata": {},
   "outputs": [],
   "source": [
    "df['År'] = df['År'].astype(int)\n"
   ]
  },
  {
   "cell_type": "code",
   "execution_count": 7,
   "metadata": {},
   "outputs": [
    {
     "data": {
      "text/plain": [
       "Index([46, 47, 48, 49, 50, 51, 52, 53, 54, 55], dtype='int64')"
      ]
     },
     "execution_count": 7,
     "metadata": {},
     "output_type": "execute_result"
    }
   ],
   "source": [
    "filt = df['År'] == 2023\n",
    "udtraek = df.loc[filt]\n",
    "udtraek.index"
   ]
  },
  {
   "cell_type": "code",
   "execution_count": 8,
   "metadata": {},
   "outputs": [
    {
     "name": "stdout",
     "output_type": "stream",
     "text": [
      "vibbi_Sep\n",
      "mabo_Mar\n",
      "josni_Jan\n",
      "josni_Feb\n",
      "josni_Apr\n",
      "josni_Maj\n",
      "josni_Jun\n",
      "josni_Jul\n",
      "josni_Aug\n",
      "josni_Sep\n",
      "davin_Feb\n",
      "davin_Mar\n",
      "ellep_Apr\n",
      "ellep_Maj\n",
      "ellep_Jul\n",
      "ellep_Aug\n",
      "jespp_Sep\n",
      "sra_Jan\n",
      "sra_Feb\n",
      "sra_Mar\n",
      "sra_Apr\n",
      "sra_Maj\n",
      "sra_Jun\n",
      "sra_Jul\n",
      "sra_Aug\n",
      "sra_Sep\n",
      "sks_Jan\n",
      "sks_Feb\n",
      "sks_Mar\n",
      "sks_Apr\n",
      "sks_Maj\n",
      "sks_Jun\n",
      "sks_Jul\n",
      "sks_Aug\n",
      "sks_Sep\n",
      "ansve_Jan\n",
      "ansve_Feb\n",
      "ansve_Apr\n",
      "ansve_Jun\n",
      "ansve_Aug\n",
      "ansve_Sep\n",
      "avi_Feb\n",
      "avi_Mar\n",
      "avi_Apr\n"
     ]
    }
   ],
   "source": [
    "kol_list = udtraek.columns\n",
    "for rk in udtraek.index:\n",
    "    for kol in kol_list[2:14]:\n",
    "        if udtraek.loc[rk, kol] > 0:\n",
    "            print(udtraek.loc[rk, 'ini'] + '_' + kol)"
   ]
  },
  {
   "cell_type": "code",
   "execution_count": 9,
   "metadata": {},
   "outputs": [],
   "source": [
    "def udskriv_rk(rk):\n",
    "    ind = rk.index\n",
    "    for i in ind[2:14]:\n",
    "        if rk[i] > 0:  \n",
    "            print(rk['ini'] + '_' + str(rk['År']) + '_' + str(i))"
   ]
  },
  {
   "cell_type": "code",
   "execution_count": 10,
   "metadata": {},
   "outputs": [
    {
     "name": "stdout",
     "output_type": "stream",
     "text": [
      "vibbi_2023_Sep\n",
      "mabo_2023_Mar\n",
      "josni_2023_Jan\n",
      "josni_2023_Feb\n",
      "josni_2023_Apr\n",
      "josni_2023_Maj\n",
      "josni_2023_Jun\n",
      "josni_2023_Jul\n",
      "josni_2023_Aug\n",
      "josni_2023_Sep\n",
      "davin_2023_Feb\n",
      "davin_2023_Mar\n",
      "ellep_2023_Apr\n",
      "ellep_2023_Maj\n",
      "ellep_2023_Jul\n",
      "ellep_2023_Aug\n",
      "jespp_2023_Sep\n",
      "sra_2023_Jan\n",
      "sra_2023_Feb\n",
      "sra_2023_Mar\n",
      "sra_2023_Apr\n",
      "sra_2023_Maj\n",
      "sra_2023_Jun\n",
      "sra_2023_Jul\n",
      "sra_2023_Aug\n",
      "sra_2023_Sep\n",
      "sks_2023_Jan\n",
      "sks_2023_Feb\n",
      "sks_2023_Mar\n",
      "sks_2023_Apr\n",
      "sks_2023_Maj\n",
      "sks_2023_Jun\n",
      "sks_2023_Jul\n",
      "sks_2023_Aug\n",
      "sks_2023_Sep\n",
      "ansve_2023_Jan\n",
      "ansve_2023_Feb\n",
      "ansve_2023_Apr\n",
      "ansve_2023_Jun\n",
      "ansve_2023_Aug\n",
      "ansve_2023_Sep\n",
      "avi_2023_Feb\n",
      "avi_2023_Mar\n",
      "avi_2023_Apr\n"
     ]
    }
   ],
   "source": [
    "_ = udtraek.apply(udskriv_rk, axis=1)"
   ]
  },
  {
   "cell_type": "code",
   "execution_count": 13,
   "metadata": {},
   "outputs": [
    {
     "data": {
      "text/plain": [
       "2"
      ]
     },
     "execution_count": 13,
     "metadata": {},
     "output_type": "execute_result"
    }
   ],
   "source": [
    "kol_list = udtraek.columns\n",
    "kol_jan = 0\n",
    "for kol in kol_list:\n",
    "    if kol.lower() == 'jan':\n",
    "        break\n",
    "    kol_jan += 1\n",
    "\n",
    "kol_jan"
   ]
  }
 ],
 "metadata": {
  "kernelspec": {
   "display_name": ".venv",
   "language": "python",
   "name": "python3"
  },
  "language_info": {
   "codemirror_mode": {
    "name": "ipython",
    "version": 3
   },
   "file_extension": ".py",
   "mimetype": "text/x-python",
   "name": "python",
   "nbconvert_exporter": "python",
   "pygments_lexer": "ipython3",
   "version": "3.12.0"
  }
 },
 "nbformat": 4,
 "nbformat_minor": 2
}
